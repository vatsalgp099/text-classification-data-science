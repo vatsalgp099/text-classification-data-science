{
 "cells": [
  {
   "cell_type": "code",
   "execution_count": 1,
   "id": "591f00c3",
   "metadata": {},
   "outputs": [],
   "source": [
    "#EDA packages\n",
    "import pandas as pd \n",
    "import numpy as np"
   ]
  },
  {
   "cell_type": "code",
   "execution_count": 2,
   "id": "aa7b1a65",
   "metadata": {},
   "outputs": [],
   "source": [
    "import os\n",
    "from scipy.stats import randint\n",
    "from io import StringIO\n",
    "from sklearn.feature_extraction.text import TfidfVectorizer\n",
    "from sklearn.feature_selection import chi2\n",
    "from IPython.display import display\n",
    "from sklearn.model_selection import train_test_split\n",
    "from sklearn.feature_extraction.text import TfidfTransformer\n",
    "from sklearn.naive_bayes import MultinomialNB\n",
    "from sklearn.linear_model import LogisticRegression\n",
    "from sklearn.ensemble import RandomForestClassifier\n",
    "from sklearn.svm import LinearSVC\n",
    "from sklearn.model_selection import cross_val_score\n",
    "from sklearn.metrics import confusion_matrix\n",
    "from sklearn import metrics"
   ]
  },
  {
   "cell_type": "code",
   "execution_count": 3,
   "id": "846dd71e",
   "metadata": {},
   "outputs": [],
   "source": [
    "#Data Viz packages\n",
    "import seaborn as sns\n",
    "import matplotlib.pyplot as plt"
   ]
  },
  {
   "cell_type": "code",
   "execution_count": 5,
   "id": "4c773a63",
   "metadata": {},
   "outputs": [],
   "source": [
    "df = pd.read_csv(\"complaints.csv\", low_memory=False)"
   ]
  },
  {
   "cell_type": "code",
   "execution_count": 6,
   "id": "2b0e39f2",
   "metadata": {},
   "outputs": [
    {
     "data": {
      "text/plain": [
       "Index(['Date received', 'Product', 'Sub-product', 'Issue', 'Sub-issue',\n",
       "       'Consumer complaint narrative', 'Company public response', 'Company',\n",
       "       'State', 'ZIP code', 'Tags', 'Consumer consent provided?',\n",
       "       'Submitted via', 'Date sent to company', 'Company response to consumer',\n",
       "       'Timely response?', 'Consumer disputed?', 'Complaint ID'],\n",
       "      dtype='object')"
      ]
     },
     "execution_count": 6,
     "metadata": {},
     "output_type": "execute_result"
    }
   ],
   "source": [
    "df.columns"
   ]
  },
  {
   "cell_type": "code",
   "execution_count": 7,
   "id": "728c65fb",
   "metadata": {},
   "outputs": [
    {
     "data": {
      "text/html": [
       "<div>\n",
       "<style scoped>\n",
       "    .dataframe tbody tr th:only-of-type {\n",
       "        vertical-align: middle;\n",
       "    }\n",
       "\n",
       "    .dataframe tbody tr th {\n",
       "        vertical-align: top;\n",
       "    }\n",
       "\n",
       "    .dataframe thead th {\n",
       "        text-align: right;\n",
       "    }\n",
       "</style>\n",
       "<table border=\"1\" class=\"dataframe\">\n",
       "  <thead>\n",
       "    <tr style=\"text-align: right;\">\n",
       "      <th></th>\n",
       "      <th>Date received</th>\n",
       "      <th>Product</th>\n",
       "      <th>Sub-product</th>\n",
       "      <th>Issue</th>\n",
       "      <th>Sub-issue</th>\n",
       "      <th>Consumer complaint narrative</th>\n",
       "      <th>Company public response</th>\n",
       "      <th>Company</th>\n",
       "      <th>State</th>\n",
       "      <th>ZIP code</th>\n",
       "      <th>Tags</th>\n",
       "      <th>Consumer consent provided?</th>\n",
       "      <th>Submitted via</th>\n",
       "      <th>Date sent to company</th>\n",
       "      <th>Company response to consumer</th>\n",
       "      <th>Timely response?</th>\n",
       "      <th>Consumer disputed?</th>\n",
       "      <th>Complaint ID</th>\n",
       "    </tr>\n",
       "  </thead>\n",
       "  <tbody>\n",
       "    <tr>\n",
       "      <th>0</th>\n",
       "      <td>2023-03-18</td>\n",
       "      <td>Credit card or prepaid card</td>\n",
       "      <td>General-purpose credit card or charge card</td>\n",
       "      <td>Other features, terms, or problems</td>\n",
       "      <td>Problem with customer service</td>\n",
       "      <td>NaN</td>\n",
       "      <td>NaN</td>\n",
       "      <td>AMERICAN EXPRESS COMPANY</td>\n",
       "      <td>CA</td>\n",
       "      <td>95032</td>\n",
       "      <td>NaN</td>\n",
       "      <td>NaN</td>\n",
       "      <td>Web</td>\n",
       "      <td>2023-04-14</td>\n",
       "      <td>In progress</td>\n",
       "      <td>Yes</td>\n",
       "      <td>NaN</td>\n",
       "      <td>6708957</td>\n",
       "    </tr>\n",
       "    <tr>\n",
       "      <th>1</th>\n",
       "      <td>2023-04-27</td>\n",
       "      <td>Credit reporting, credit repair services, or o...</td>\n",
       "      <td>Credit reporting</td>\n",
       "      <td>Problem with a credit reporting company's inve...</td>\n",
       "      <td>Their investigation did not fix an error on yo...</td>\n",
       "      <td>NaN</td>\n",
       "      <td>NaN</td>\n",
       "      <td>EQUIFAX, INC.</td>\n",
       "      <td>PA</td>\n",
       "      <td>19111</td>\n",
       "      <td>NaN</td>\n",
       "      <td>NaN</td>\n",
       "      <td>Web</td>\n",
       "      <td>2023-04-27</td>\n",
       "      <td>In progress</td>\n",
       "      <td>Yes</td>\n",
       "      <td>NaN</td>\n",
       "      <td>6896030</td>\n",
       "    </tr>\n",
       "  </tbody>\n",
       "</table>\n",
       "</div>"
      ],
      "text/plain": [
       "  Date received                                            Product   \n",
       "0    2023-03-18                        Credit card or prepaid card  \\\n",
       "1    2023-04-27  Credit reporting, credit repair services, or o...   \n",
       "\n",
       "                                  Sub-product   \n",
       "0  General-purpose credit card or charge card  \\\n",
       "1                            Credit reporting   \n",
       "\n",
       "                                               Issue   \n",
       "0                 Other features, terms, or problems  \\\n",
       "1  Problem with a credit reporting company's inve...   \n",
       "\n",
       "                                           Sub-issue   \n",
       "0                      Problem with customer service  \\\n",
       "1  Their investigation did not fix an error on yo...   \n",
       "\n",
       "  Consumer complaint narrative Company public response   \n",
       "0                          NaN                     NaN  \\\n",
       "1                          NaN                     NaN   \n",
       "\n",
       "                    Company State ZIP code Tags Consumer consent provided?   \n",
       "0  AMERICAN EXPRESS COMPANY    CA    95032  NaN                        NaN  \\\n",
       "1             EQUIFAX, INC.    PA    19111  NaN                        NaN   \n",
       "\n",
       "  Submitted via Date sent to company Company response to consumer   \n",
       "0           Web           2023-04-14                  In progress  \\\n",
       "1           Web           2023-04-27                  In progress   \n",
       "\n",
       "  Timely response? Consumer disputed?  Complaint ID  \n",
       "0              Yes                NaN       6708957  \n",
       "1              Yes                NaN       6896030  "
      ]
     },
     "execution_count": 7,
     "metadata": {},
     "output_type": "execute_result"
    }
   ],
   "source": [
    "df.head(2)"
   ]
  },
  {
   "cell_type": "code",
   "execution_count": 8,
   "id": "9158c101",
   "metadata": {},
   "outputs": [
    {
     "data": {
      "text/plain": [
       "(3586489, 18)"
      ]
     },
     "execution_count": 8,
     "metadata": {},
     "output_type": "execute_result"
    }
   ],
   "source": [
    "df.shape"
   ]
  },
  {
   "cell_type": "code",
   "execution_count": 12,
   "id": "ce510e0d",
   "metadata": {},
   "outputs": [
    {
     "data": {
      "text/html": [
       "<div>\n",
       "<style scoped>\n",
       "    .dataframe tbody tr th:only-of-type {\n",
       "        vertical-align: middle;\n",
       "    }\n",
       "\n",
       "    .dataframe tbody tr th {\n",
       "        vertical-align: top;\n",
       "    }\n",
       "\n",
       "    .dataframe thead th {\n",
       "        text-align: right;\n",
       "    }\n",
       "</style>\n",
       "<table border=\"1\" class=\"dataframe\">\n",
       "  <thead>\n",
       "    <tr style=\"text-align: right;\">\n",
       "      <th></th>\n",
       "      <th>0</th>\n",
       "      <th>1</th>\n",
       "    </tr>\n",
       "  </thead>\n",
       "  <tbody>\n",
       "    <tr>\n",
       "      <th>Date received</th>\n",
       "      <td>2023-03-18</td>\n",
       "      <td>2023-04-27</td>\n",
       "    </tr>\n",
       "    <tr>\n",
       "      <th>Product</th>\n",
       "      <td>Credit card or prepaid card</td>\n",
       "      <td>Credit reporting, credit repair services, or o...</td>\n",
       "    </tr>\n",
       "    <tr>\n",
       "      <th>Sub-product</th>\n",
       "      <td>General-purpose credit card or charge card</td>\n",
       "      <td>Credit reporting</td>\n",
       "    </tr>\n",
       "    <tr>\n",
       "      <th>Issue</th>\n",
       "      <td>Other features, terms, or problems</td>\n",
       "      <td>Problem with a credit reporting company's inve...</td>\n",
       "    </tr>\n",
       "    <tr>\n",
       "      <th>Sub-issue</th>\n",
       "      <td>Problem with customer service</td>\n",
       "      <td>Their investigation did not fix an error on yo...</td>\n",
       "    </tr>\n",
       "    <tr>\n",
       "      <th>Consumer complaint narrative</th>\n",
       "      <td>NaN</td>\n",
       "      <td>NaN</td>\n",
       "    </tr>\n",
       "    <tr>\n",
       "      <th>Company public response</th>\n",
       "      <td>NaN</td>\n",
       "      <td>NaN</td>\n",
       "    </tr>\n",
       "    <tr>\n",
       "      <th>Company</th>\n",
       "      <td>AMERICAN EXPRESS COMPANY</td>\n",
       "      <td>EQUIFAX, INC.</td>\n",
       "    </tr>\n",
       "    <tr>\n",
       "      <th>State</th>\n",
       "      <td>CA</td>\n",
       "      <td>PA</td>\n",
       "    </tr>\n",
       "    <tr>\n",
       "      <th>ZIP code</th>\n",
       "      <td>95032</td>\n",
       "      <td>19111</td>\n",
       "    </tr>\n",
       "    <tr>\n",
       "      <th>Tags</th>\n",
       "      <td>NaN</td>\n",
       "      <td>NaN</td>\n",
       "    </tr>\n",
       "    <tr>\n",
       "      <th>Consumer consent provided?</th>\n",
       "      <td>NaN</td>\n",
       "      <td>NaN</td>\n",
       "    </tr>\n",
       "    <tr>\n",
       "      <th>Submitted via</th>\n",
       "      <td>Web</td>\n",
       "      <td>Web</td>\n",
       "    </tr>\n",
       "    <tr>\n",
       "      <th>Date sent to company</th>\n",
       "      <td>2023-04-14</td>\n",
       "      <td>2023-04-27</td>\n",
       "    </tr>\n",
       "    <tr>\n",
       "      <th>Company response to consumer</th>\n",
       "      <td>In progress</td>\n",
       "      <td>In progress</td>\n",
       "    </tr>\n",
       "    <tr>\n",
       "      <th>Timely response?</th>\n",
       "      <td>Yes</td>\n",
       "      <td>Yes</td>\n",
       "    </tr>\n",
       "    <tr>\n",
       "      <th>Consumer disputed?</th>\n",
       "      <td>NaN</td>\n",
       "      <td>NaN</td>\n",
       "    </tr>\n",
       "    <tr>\n",
       "      <th>Complaint ID</th>\n",
       "      <td>6708957</td>\n",
       "      <td>6896030</td>\n",
       "    </tr>\n",
       "  </tbody>\n",
       "</table>\n",
       "</div>"
      ],
      "text/plain": [
       "                                                                       0   \n",
       "Date received                                                 2023-03-18  \\\n",
       "Product                                      Credit card or prepaid card   \n",
       "Sub-product                   General-purpose credit card or charge card   \n",
       "Issue                                 Other features, terms, or problems   \n",
       "Sub-issue                                  Problem with customer service   \n",
       "Consumer complaint narrative                                         NaN   \n",
       "Company public response                                              NaN   \n",
       "Company                                         AMERICAN EXPRESS COMPANY   \n",
       "State                                                                 CA   \n",
       "ZIP code                                                           95032   \n",
       "Tags                                                                 NaN   \n",
       "Consumer consent provided?                                           NaN   \n",
       "Submitted via                                                        Web   \n",
       "Date sent to company                                          2023-04-14   \n",
       "Company response to consumer                                 In progress   \n",
       "Timely response?                                                     Yes   \n",
       "Consumer disputed?                                                   NaN   \n",
       "Complaint ID                                                     6708957   \n",
       "\n",
       "                                                                              1  \n",
       "Date received                                                        2023-04-27  \n",
       "Product                       Credit reporting, credit repair services, or o...  \n",
       "Sub-product                                                    Credit reporting  \n",
       "Issue                         Problem with a credit reporting company's inve...  \n",
       "Sub-issue                     Their investigation did not fix an error on yo...  \n",
       "Consumer complaint narrative                                                NaN  \n",
       "Company public response                                                     NaN  \n",
       "Company                                                           EQUIFAX, INC.  \n",
       "State                                                                        PA  \n",
       "ZIP code                                                                  19111  \n",
       "Tags                                                                        NaN  \n",
       "Consumer consent provided?                                                  NaN  \n",
       "Submitted via                                                               Web  \n",
       "Date sent to company                                                 2023-04-27  \n",
       "Company response to consumer                                        In progress  \n",
       "Timely response?                                                            Yes  \n",
       "Consumer disputed?                                                          NaN  \n",
       "Complaint ID                                                            6896030  "
      ]
     },
     "execution_count": 12,
     "metadata": {},
     "output_type": "execute_result"
    }
   ],
   "source": [
    "df.head(2).T"
   ]
  },
  {
   "cell_type": "code",
   "execution_count": 13,
   "id": "8c35cf37",
   "metadata": {},
   "outputs": [
    {
     "data": {
      "text/plain": [
       "(1294168, 2)"
      ]
     },
     "execution_count": 13,
     "metadata": {},
     "output_type": "execute_result"
    }
   ],
   "source": [
    "# Create a new dataframe with two columns\n",
    "df1 = df[['Product', 'Consumer complaint narrative']].copy()\n",
    "\n",
    "# Remove missing values (NaN)\n",
    "df1 = df1[pd.notnull(df1['Consumer complaint narrative'])]\n",
    "\n",
    "# Renaming second column for a simpler name\n",
    "df1.columns = ['Product', 'Consumer_complaint'] \n",
    "\n",
    "df1.shape"
   ]
  },
  {
   "cell_type": "code",
   "execution_count": 14,
   "id": "55f70fef",
   "metadata": {},
   "outputs": [
    {
     "data": {
      "text/html": [
       "<div>\n",
       "<style scoped>\n",
       "    .dataframe tbody tr th:only-of-type {\n",
       "        vertical-align: middle;\n",
       "    }\n",
       "\n",
       "    .dataframe tbody tr th {\n",
       "        vertical-align: top;\n",
       "    }\n",
       "\n",
       "    .dataframe thead th {\n",
       "        text-align: right;\n",
       "    }\n",
       "</style>\n",
       "<table border=\"1\" class=\"dataframe\">\n",
       "  <thead>\n",
       "    <tr style=\"text-align: right;\">\n",
       "      <th></th>\n",
       "      <th>Product</th>\n",
       "      <th>Consumer_complaint</th>\n",
       "    </tr>\n",
       "  </thead>\n",
       "  <tbody>\n",
       "    <tr>\n",
       "      <th>21</th>\n",
       "      <td>Student loan</td>\n",
       "      <td>I recently submitted a complaint about how my ...</td>\n",
       "    </tr>\n",
       "    <tr>\n",
       "      <th>22</th>\n",
       "      <td>Debt collection</td>\n",
       "      <td>XXXX XXXX XXXX ( XXXX ) is engaged in 1. bad-f...</td>\n",
       "    </tr>\n",
       "    <tr>\n",
       "      <th>25</th>\n",
       "      <td>Debt collection</td>\n",
       "      <td>I have disputed this item with the credit repo...</td>\n",
       "    </tr>\n",
       "    <tr>\n",
       "      <th>33</th>\n",
       "      <td>Credit reporting, credit repair services, or o...</td>\n",
       "      <td>Hard inquiries are on my credit report that I ...</td>\n",
       "    </tr>\n",
       "    <tr>\n",
       "      <th>34</th>\n",
       "      <td>Money transfer, virtual currency, or money ser...</td>\n",
       "      <td>On XX/XX/2022 I was searching for a specific f...</td>\n",
       "    </tr>\n",
       "    <tr>\n",
       "      <th>44</th>\n",
       "      <td>Credit reporting, credit repair services, or o...</td>\n",
       "      <td>I have several accounts reporting on my credit...</td>\n",
       "    </tr>\n",
       "    <tr>\n",
       "      <th>45</th>\n",
       "      <td>Debt collection</td>\n",
       "      <td>This complaint is for Rock Creek Capital , LLC...</td>\n",
       "    </tr>\n",
       "    <tr>\n",
       "      <th>51</th>\n",
       "      <td>Credit reporting, credit repair services, or o...</td>\n",
       "      <td>On several occasions I tried challenging some ...</td>\n",
       "    </tr>\n",
       "    <tr>\n",
       "      <th>52</th>\n",
       "      <td>Credit reporting, credit repair services, or o...</td>\n",
       "      <td>This complaint to Experian was the result of t...</td>\n",
       "    </tr>\n",
       "    <tr>\n",
       "      <th>55</th>\n",
       "      <td>Vehicle loan or lease</td>\n",
       "      <td>Im currently XXXX  XXXX  military and informed...</td>\n",
       "    </tr>\n",
       "    <tr>\n",
       "      <th>56</th>\n",
       "      <td>Credit reporting, credit repair services, or o...</td>\n",
       "      <td>NOTICE TO AGENT IS NOTICE TO PRINCIPAL NOTICE ...</td>\n",
       "    </tr>\n",
       "    <tr>\n",
       "      <th>78</th>\n",
       "      <td>Debt collection</td>\n",
       "      <td>This complaint is for XXXX XXXX XXXX XXXX XXXX...</td>\n",
       "    </tr>\n",
       "    <tr>\n",
       "      <th>79</th>\n",
       "      <td>Credit reporting, credit repair services, or o...</td>\n",
       "      <td>I have a loan with the accounts below. The cur...</td>\n",
       "    </tr>\n",
       "    <tr>\n",
       "      <th>85</th>\n",
       "      <td>Money transfer, virtual currency, or money ser...</td>\n",
       "      <td>I have {$8100.00} that I attempted to withdraw...</td>\n",
       "    </tr>\n",
       "    <tr>\n",
       "      <th>86</th>\n",
       "      <td>Credit reporting, credit repair services, or o...</td>\n",
       "      <td>This is XXXX XXXX, who is submitting this CFPB...</td>\n",
       "    </tr>\n",
       "  </tbody>\n",
       "</table>\n",
       "</div>"
      ],
      "text/plain": [
       "                                              Product   \n",
       "21                                       Student loan  \\\n",
       "22                                    Debt collection   \n",
       "25                                    Debt collection   \n",
       "33  Credit reporting, credit repair services, or o...   \n",
       "34  Money transfer, virtual currency, or money ser...   \n",
       "44  Credit reporting, credit repair services, or o...   \n",
       "45                                    Debt collection   \n",
       "51  Credit reporting, credit repair services, or o...   \n",
       "52  Credit reporting, credit repair services, or o...   \n",
       "55                              Vehicle loan or lease   \n",
       "56  Credit reporting, credit repair services, or o...   \n",
       "78                                    Debt collection   \n",
       "79  Credit reporting, credit repair services, or o...   \n",
       "85  Money transfer, virtual currency, or money ser...   \n",
       "86  Credit reporting, credit repair services, or o...   \n",
       "\n",
       "                                   Consumer_complaint  \n",
       "21  I recently submitted a complaint about how my ...  \n",
       "22  XXXX XXXX XXXX ( XXXX ) is engaged in 1. bad-f...  \n",
       "25  I have disputed this item with the credit repo...  \n",
       "33  Hard inquiries are on my credit report that I ...  \n",
       "34  On XX/XX/2022 I was searching for a specific f...  \n",
       "44  I have several accounts reporting on my credit...  \n",
       "45  This complaint is for Rock Creek Capital , LLC...  \n",
       "51  On several occasions I tried challenging some ...  \n",
       "52  This complaint to Experian was the result of t...  \n",
       "55  Im currently XXXX  XXXX  military and informed...  \n",
       "56  NOTICE TO AGENT IS NOTICE TO PRINCIPAL NOTICE ...  \n",
       "78  This complaint is for XXXX XXXX XXXX XXXX XXXX...  \n",
       "79  I have a loan with the accounts below. The cur...  \n",
       "85  I have {$8100.00} that I attempted to withdraw...  \n",
       "86  This is XXXX XXXX, who is submitting this CFPB...  "
      ]
     },
     "execution_count": 14,
     "metadata": {},
     "output_type": "execute_result"
    }
   ],
   "source": [
    "df1.head(15)"
   ]
  },
  {
   "cell_type": "code",
   "execution_count": 15,
   "id": "4d839dd0",
   "metadata": {},
   "outputs": [
    {
     "data": {
      "text/plain": [
       "36.1"
      ]
     },
     "execution_count": 15,
     "metadata": {},
     "output_type": "execute_result"
    }
   ],
   "source": [
    "# Percentage of complaints with text\n",
    "total = df1['Consumer_complaint'].notnull().sum()\n",
    "round((total/len(df)*100),1)"
   ]
  },
  {
   "cell_type": "code",
   "execution_count": 16,
   "id": "9f413240",
   "metadata": {},
   "outputs": [],
   "source": [
    "df2 = df1.sample(10000, random_state=1).copy()"
   ]
  },
  {
   "cell_type": "code",
   "execution_count": 20,
   "id": "64f2da66",
   "metadata": {},
   "outputs": [],
   "source": [
    "# Renaming categories\n",
    "df2.replace({'Product': \n",
    "             {'Credit reporting, credit repair services, or other personal consumer reports': \n",
    "              'Credit reporting, repair, or other', \n",
    "              'Credit reporting': 'Credit reporting, repair, or other',\n",
    "             'Credit card': 'Credit card or prepaid card',\n",
    "             'Prepaid card': 'Credit card or prepaid card',\n",
    "             'Payday loan': 'Payday loan, title loan, or personal loan',\n",
    "             'Money transfer': 'Money transfer, virtual currency, or money service',\n",
    "             'Virtual currency': 'Money transfer, virtual currency, or money service'}}, \n",
    "            inplace= True)"
   ]
  },
  {
   "cell_type": "code",
   "execution_count": 32,
   "id": "0bbf7b1f",
   "metadata": {},
   "outputs": [
    {
     "data": {
      "text/html": [
       "<div>\n",
       "<style scoped>\n",
       "    .dataframe tbody tr th:only-of-type {\n",
       "        vertical-align: middle;\n",
       "    }\n",
       "\n",
       "    .dataframe tbody tr th {\n",
       "        vertical-align: top;\n",
       "    }\n",
       "\n",
       "    .dataframe thead th {\n",
       "        text-align: right;\n",
       "    }\n",
       "</style>\n",
       "<table border=\"1\" class=\"dataframe\">\n",
       "  <thead>\n",
       "    <tr style=\"text-align: right;\">\n",
       "      <th></th>\n",
       "      <th>0</th>\n",
       "    </tr>\n",
       "  </thead>\n",
       "  <tbody>\n",
       "    <tr>\n",
       "      <th>0</th>\n",
       "      <td>Credit reporting, repair, or other</td>\n",
       "    </tr>\n",
       "    <tr>\n",
       "      <th>1</th>\n",
       "      <td>Mortgage</td>\n",
       "    </tr>\n",
       "    <tr>\n",
       "      <th>2</th>\n",
       "      <td>Debt collection</td>\n",
       "    </tr>\n",
       "    <tr>\n",
       "      <th>3</th>\n",
       "      <td>Consumer Loan</td>\n",
       "    </tr>\n",
       "  </tbody>\n",
       "</table>\n",
       "</div>"
      ],
      "text/plain": [
       "                                    0\n",
       "0  Credit reporting, repair, or other\n",
       "1                            Mortgage\n",
       "2                     Debt collection\n",
       "3                       Consumer Loan"
      ]
     },
     "execution_count": 32,
     "metadata": {},
     "output_type": "execute_result"
    }
   ],
   "source": [
    "a=df2.loc[df2['Product'].isin(['Credit reporting, repair, or other','Debt collection','Consumer Loan','Mortgage'])]\n",
    "pd.DataFrame(a.Product.unique())"
   ]
  },
  {
   "cell_type": "code",
   "execution_count": 33,
   "id": "5086dd31",
   "metadata": {},
   "outputs": [
    {
     "name": "stderr",
     "output_type": "stream",
     "text": [
      "C:\\Users\\gupta\\AppData\\Local\\Temp\\ipykernel_552\\1700392438.py:2: SettingWithCopyWarning: \n",
      "A value is trying to be set on a copy of a slice from a DataFrame.\n",
      "Try using .loc[row_indexer,col_indexer] = value instead\n",
      "\n",
      "See the caveats in the documentation: https://pandas.pydata.org/pandas-docs/stable/user_guide/indexing.html#returning-a-view-versus-a-copy\n",
      "  a['category_id'] = a['Product'].factorize()[0]\n"
     ]
    },
    {
     "data": {
      "text/html": [
       "<div>\n",
       "<style scoped>\n",
       "    .dataframe tbody tr th:only-of-type {\n",
       "        vertical-align: middle;\n",
       "    }\n",
       "\n",
       "    .dataframe tbody tr th {\n",
       "        vertical-align: top;\n",
       "    }\n",
       "\n",
       "    .dataframe thead th {\n",
       "        text-align: right;\n",
       "    }\n",
       "</style>\n",
       "<table border=\"1\" class=\"dataframe\">\n",
       "  <thead>\n",
       "    <tr style=\"text-align: right;\">\n",
       "      <th></th>\n",
       "      <th>Product</th>\n",
       "      <th>Consumer_complaint</th>\n",
       "      <th>category_id</th>\n",
       "    </tr>\n",
       "  </thead>\n",
       "  <tbody>\n",
       "    <tr>\n",
       "      <th>1353433</th>\n",
       "      <td>Credit reporting, repair, or other</td>\n",
       "      <td>I requested to have the XXXX XXXX Bank trade r...</td>\n",
       "      <td>0</td>\n",
       "    </tr>\n",
       "    <tr>\n",
       "      <th>2081416</th>\n",
       "      <td>Credit reporting, repair, or other</td>\n",
       "      <td>XXXX XXXX sent a letter stating they would cor...</td>\n",
       "      <td>0</td>\n",
       "    </tr>\n",
       "    <tr>\n",
       "      <th>1954570</th>\n",
       "      <td>Mortgage</td>\n",
       "      <td>Essentially I was verbally told I would have p...</td>\n",
       "      <td>1</td>\n",
       "    </tr>\n",
       "    <tr>\n",
       "      <th>1331941</th>\n",
       "      <td>Debt collection</td>\n",
       "      <td>Citizens banks claims The debt of XXXX from 20...</td>\n",
       "      <td>2</td>\n",
       "    </tr>\n",
       "    <tr>\n",
       "      <th>3111660</th>\n",
       "      <td>Credit reporting, repair, or other</td>\n",
       "      <td>In accordance with the FAIR CREDIT REPORTING A...</td>\n",
       "      <td>0</td>\n",
       "    </tr>\n",
       "  </tbody>\n",
       "</table>\n",
       "</div>"
      ],
      "text/plain": [
       "                                    Product   \n",
       "1353433  Credit reporting, repair, or other  \\\n",
       "2081416  Credit reporting, repair, or other   \n",
       "1954570                            Mortgage   \n",
       "1331941                     Debt collection   \n",
       "3111660  Credit reporting, repair, or other   \n",
       "\n",
       "                                        Consumer_complaint  category_id  \n",
       "1353433  I requested to have the XXXX XXXX Bank trade r...            0  \n",
       "2081416  XXXX XXXX sent a letter stating they would cor...            0  \n",
       "1954570  Essentially I was verbally told I would have p...            1  \n",
       "1331941  Citizens banks claims The debt of XXXX from 20...            2  \n",
       "3111660  In accordance with the FAIR CREDIT REPORTING A...            0  "
      ]
     },
     "execution_count": 33,
     "metadata": {},
     "output_type": "execute_result"
    }
   ],
   "source": [
    "# Create a new column 'category_id' with encoded categories \n",
    "a['category_id'] = a['Product'].factorize()[0]\n",
    "category_id_df = a[['Product', 'category_id']].drop_duplicates()\n",
    "\n",
    "\n",
    "# Dictionaries for future use\n",
    "category_to_id = dict(category_id_df.values)\n",
    "id_to_category = dict(category_id_df[['category_id', 'Product']].values)\n",
    "\n",
    "# New dataframe\n",
    "a.head()"
   ]
  },
  {
   "cell_type": "code",
   "execution_count": 36,
   "id": "9ccc81d6",
   "metadata": {},
   "outputs": [
    {
     "data": {
      "text/plain": [
       "<Axes: title={'center': 'Complaints'}, ylabel='Product'>"
      ]
     },
     "execution_count": 36,
     "metadata": {},
     "output_type": "execute_result"
    },
    {
     "data": {
      "image/png": "[encoded data removed]",
      "text/plain": [
       "<Figure size 1000x1000 with 1 Axes>"
      ]
     },
     "metadata": {},
     "output_type": "display_data"
    }
   ],
   "source": [
    "fig = plt.figure(figsize=(10,10))\n",
    "a.groupby('Product').Consumer_complaint.count().sort_values().plot.barh(ylim=0, title= 'Complaints')"
   ]
  },
  {
   "cell_type": "code",
   "execution_count": 39,
   "id": "c2f26e50",
   "metadata": {},
   "outputs": [
    {
     "data": {
      "text/plain": [
       "<Axes: title={'center': 'Complaints'}, ylabel='Product'>"
      ]
     },
     "execution_count": 39,
     "metadata": {},
     "output_type": "execute_result"
    },
    {
     "data": {
      "image/png": "[encoded data removed]",
      "text/plain": [
       "<Figure size 1000x1000 with 1 Axes>"
      ]
     },
     "metadata": {},
     "output_type": "display_data"
    }
   ],
   "source": [
    "fig = plt.figure(figsize=(10,10))\n",
    "df2.groupby('Product').Consumer_complaint.count().sort_values().plot.barh(ylim=0, title= 'Complaints')"
   ]
  },
  {
   "cell_type": "code",
   "execution_count": 40,
   "id": "d401ccaa",
   "metadata": {},
   "outputs": [
    {
     "name": "stdout",
     "output_type": "stream",
     "text": [
      "Each of the 7642 complaints is represented by 19772 features (TF-IDF score of unigrams and bigrams)\n"
     ]
    }
   ],
   "source": [
    "tfidf = TfidfVectorizer(sublinear_tf=True, min_df=5,ngram_range=(1, 2), stop_words='english')\n",
    "\n",
    "# transform each complaint into a vector\n",
    "features = tfidf.fit_transform(a.Consumer_complaint).toarray()\n",
    "\n",
    "labels = a.category_id\n",
    "\n",
    "print(\"Each of the %d complaints is represented by %d features \" %(features.shape)) #TF-IDF score of unigrams and bigrams"
   ]
  },
  {
   "cell_type": "code",
   "execution_count": 48,
   "id": "7b99a01b",
   "metadata": {},
   "outputs": [
    {
     "name": "stdout",
     "output_type": "stream",
     "text": [
      "\n",
      "==> Consumer Loan:\n",
      "  * Most Correlated Unigrams are: car, westlake, santander\n",
      "  * Most Correlated Bigrams are: westlake financial, santander consumer, finance company\n",
      "\n",
      "==> Credit reporting, repair, or other:\n",
      "  * Most Correlated Unigrams are: collect, mortgage, debt\n",
      "  * Most Correlated Bigrams are: collect debt, 15 1681, 1681 section\n",
      "\n",
      "==> Debt collection:\n",
      "  * Most Correlated Unigrams are: collection, collect, debt\n",
      "  * Most Correlated Bigrams are: debt collection, collection agency, collect debt\n",
      "\n",
      "==> Mortgage:\n",
      "  * Most Correlated Unigrams are: modification, escrow, mortgage\n",
      "  * Most Correlated Bigrams are: escrow account, mortgage company, loan modification\n"
     ]
    }
   ],
   "source": [
    "# Finding the three most correlated terms with each of the product categories\n",
    "N = 3\n",
    "for Product, category_id in sorted(category_to_id.items()):\n",
    "  features_chi2 = chi2(features, labels == category_id)\n",
    "  indices = np.argsort(features_chi2[0])\n",
    "  feature_names = np.array(tfidf.get_feature_names_out())[indices]\n",
    "  unigrams = [v for v in feature_names if len(v.split(' ')) == 1]\n",
    "  bigrams = [v for v in feature_names if len(v.split(' ')) == 2]\n",
    "  print(\"\\n==> %s:\" %(Product))\n",
    "  print(\"  * Most Correlated Unigrams are: %s\" %(', '.join(unigrams[-N:])))\n",
    "  print(\"  * Most Correlated Bigrams are: %s\" %(', '.join(bigrams[-N:])))"
   ]
  },
  {
   "cell_type": "code",
   "execution_count": 49,
   "id": "2effdd70",
   "metadata": {},
   "outputs": [],
   "source": [
    "X = a['Consumer_complaint'] # Complaints\n",
    "y = a['Product'] # The labels \n",
    "\n",
    "X_train, X_test, y_train, y_test = train_test_split(X, y, \n",
    "                                                    test_size=0.25,\n",
    "                                                    random_state = 0)"
   ]
  },
  {
   "cell_type": "code",
   "execution_count": 50,
   "id": "8b9db67a",
   "metadata": {},
   "outputs": [],
   "source": [
    "# Models:\n",
    "\n",
    "models = [LinearSVC(), MultinomialNB(),]\n",
    "\n",
    "# 2 Cross-validation\n",
    "CV = 2\n",
    "cv_df = pd.DataFrame(index=range(CV * len(models)))"
   ]
  },
  {
   "cell_type": "code",
   "execution_count": 51,
   "id": "be6f611e",
   "metadata": {},
   "outputs": [],
   "source": [
    "entries = []\n",
    "for model in models:\n",
    "  model_name = model.__class__.__name__\n",
    "  accuracies = cross_val_score(model, features, labels, scoring='accuracy', cv=CV)\n",
    "  for fold_idx, accuracy in enumerate(accuracies):\n",
    "    entries.append((model_name, fold_idx, accuracy))\n",
    "    \n",
    "cv_df = pd.DataFrame(entries, columns=['model_name', 'fold_idx', 'accuracy'])"
   ]
  },
  {
   "cell_type": "code",
   "execution_count": 52,
   "id": "47704b3e",
   "metadata": {},
   "outputs": [
    {
     "data": {
      "text/html": [
       "<div>\n",
       "<style scoped>\n",
       "    .dataframe tbody tr th:only-of-type {\n",
       "        vertical-align: middle;\n",
       "    }\n",
       "\n",
       "    .dataframe tbody tr th {\n",
       "        vertical-align: top;\n",
       "    }\n",
       "\n",
       "    .dataframe thead th {\n",
       "        text-align: right;\n",
       "    }\n",
       "</style>\n",
       "<table border=\"1\" class=\"dataframe\">\n",
       "  <thead>\n",
       "    <tr style=\"text-align: right;\">\n",
       "      <th></th>\n",
       "      <th>Mean Accuracy</th>\n",
       "      <th>Standard deviation</th>\n",
       "    </tr>\n",
       "    <tr>\n",
       "      <th>model_name</th>\n",
       "      <th></th>\n",
       "      <th></th>\n",
       "    </tr>\n",
       "  </thead>\n",
       "  <tbody>\n",
       "    <tr>\n",
       "      <th>LinearSVC</th>\n",
       "      <td>0.889950</td>\n",
       "      <td>0.010918</td>\n",
       "    </tr>\n",
       "    <tr>\n",
       "      <th>MultinomialNB</th>\n",
       "      <td>0.786574</td>\n",
       "      <td>0.008328</td>\n",
       "    </tr>\n",
       "  </tbody>\n",
       "</table>\n",
       "</div>"
      ],
      "text/plain": [
       "               Mean Accuracy  Standard deviation\n",
       "model_name                                      \n",
       "LinearSVC           0.889950            0.010918\n",
       "MultinomialNB       0.786574            0.008328"
      ]
     },
     "execution_count": 52,
     "metadata": {},
     "output_type": "execute_result"
    }
   ],
   "source": [
    "mean_accuracy = cv_df.groupby('model_name').accuracy.mean()\n",
    "std_accuracy = cv_df.groupby('model_name').accuracy.std()\n",
    "acc = pd.concat([mean_accuracy, std_accuracy], axis= 1, ignore_index=True)\n",
    "acc.columns = ['Mean Accuracy', 'Standard deviation']\n",
    "acc"
   ]
  },
  {
   "cell_type": "code",
   "execution_count": 56,
   "id": "05a8a609",
   "metadata": {},
   "outputs": [
    {
     "data": {
      "image/png": "[encoded data removed]",
      "text/plain": [
       "<Figure size 1000x1000 with 1 Axes>"
      ]
     },
     "metadata": {},
     "output_type": "display_data"
    }
   ],
   "source": [
    "#Box plot are the best to plot the entire dataset, for mean, standard deviation\n",
    "plt.figure(figsize=(10,10))\n",
    "sns.boxplot(x='model_name', y='accuracy',data=cv_df,showmeans=True)\n",
    "plt.title(\"MEAN ACCURACY (cv = 2)\\n\", size=14);"
   ]
  },
  {
   "cell_type": "code",
   "execution_count": 57,
   "id": "49c7ebe3",
   "metadata": {},
   "outputs": [],
   "source": [
    "X_train, X_test, y_train, y_test,indices_train,indices_test = train_test_split(features,labels, a.index, test_size=0.25,random_state=1)\n",
    "model = LinearSVC()\n",
    "model.fit(X_train, y_train)\n",
    "y_pred = model.predict(X_test)"
   ]
  },
  {
   "cell_type": "code",
   "execution_count": 60,
   "id": "a29764f8",
   "metadata": {},
   "outputs": [
    {
     "name": "stdout",
     "output_type": "stream",
     "text": [
      "Metrics (Accuracy)\n",
      "                                    precision    recall  f1-score   support\n",
      "\n",
      "Credit reporting, repair, or other       0.93      0.95      0.94      1304\n",
      "                          Mortgage       0.92      0.91      0.91       215\n",
      "                   Debt collection       0.82      0.78      0.80       379\n",
      "                     Consumer Loan       0.50      0.08      0.13        13\n",
      "\n",
      "                          accuracy                           0.91      1911\n",
      "                         macro avg       0.79      0.68      0.70      1911\n",
      "                      weighted avg       0.90      0.91      0.90      1911\n",
      "\n"
     ]
    }
   ],
   "source": [
    "# Classification report\n",
    "print('Metrics (Accuracy)')\n",
    "print(metrics.classification_report(y_test, y_pred, target_names= a['Product'].unique()))"
   ]
  },
  {
   "cell_type": "code",
   "execution_count": 61,
   "id": "6b8a4cb5",
   "metadata": {},
   "outputs": [
    {
     "data": {
      "image/png": "[encoded data removed]",
      "text/plain": [
       "<Figure size 1000x1000 with 2 Axes>"
      ]
     },
     "metadata": {},
     "output_type": "display_data"
    }
   ],
   "source": [
    "conf_mat = confusion_matrix(y_test, y_pred)\n",
    "fig, ax = plt.subplots(figsize=(10,10))\n",
    "sns.heatmap(conf_mat, annot=True, cmap=\"Blues\", fmt='d', xticklabels=category_id_df.Product.values, yticklabels=category_id_df.Product.values)\n",
    "plt.ylabel('Actual')\n",
    "plt.xlabel('Predicted')\n",
    "plt.title(\"confusion matrix - LinearSVC\\n\", size=12);"
   ]
  },
  {
   "cell_type": "code",
   "execution_count": 62,
   "id": "9cc53879",
   "metadata": {},
   "outputs": [
    {
     "name": "stdout",
     "output_type": "stream",
     "text": [
      "\n",
      "==> 'Consumer Loan':\n",
      "  * Top unigrams: loan, vehicle, santander, car\n",
      "  * Top bigrams: santander consumer, finance company, financial services, westlake financial\n",
      "\n",
      "==> 'Credit reporting, repair, or other':\n",
      "  * Top unigrams: equifax, report, transunion, experian\n",
      "  * Top bigrams: xxxx xxxx, loan company, xxxx equifax, xxxx xx\n",
      "\n",
      "==> 'Debt collection':\n",
      "  * Top unigrams: debt, collection, calling, collections\n",
      "  * Top bigrams: credit services, trying collect, account credit, filing dispute\n",
      "\n",
      "==> 'Mortgage':\n",
      "  * Top unigrams: mortgage, escrow, servicing, ditech\n",
      "  * Top bigrams: pay mortgage, late fees, loan servicing, loan modification\n"
     ]
    }
   ],
   "source": [
    "model.fit(features, labels)\n",
    "\n",
    "N = 4\n",
    "for Product, category_id in sorted(category_to_id.items()):\n",
    "  indices = np.argsort(model.coef_[category_id])\n",
    "  feature_names = np.array(tfidf.get_feature_names_out())[indices]\n",
    "  unigrams = [v for v in reversed(feature_names) if len(v.split(' ')) == 1][:N]\n",
    "  bigrams = [v for v in reversed(feature_names) if len(v.split(' ')) == 2][:N]\n",
    "  print(\"\\n==> '{}':\".format(Product))\n",
    "  print(\"  * Top unigrams: %s\" %(', '.join(unigrams)))\n",
    "  print(\"  * Top bigrams: %s\" %(', '.join(bigrams)))"
   ]
  },
  {
   "cell_type": "code",
   "execution_count": 63,
   "id": "dc019b53",
   "metadata": {},
   "outputs": [],
   "source": [
    "X_train, X_test, y_train, y_test = train_test_split(X, y, test_size=0.25, random_state = 0) #no random data splitting  \n",
    "tfidf = TfidfVectorizer(sublinear_tf=True, min_df=5, ngram_range=(1, 2), stop_words='english')\n",
    "fitted_vectorizer = tfidf.fit(X_train)\n",
    "tfidf_vectorizer_vectors = fitted_vectorizer.transform(X_train)\n",
    "model = LinearSVC().fit(tfidf_vectorizer_vectors, y_train)"
   ]
  },
  {
   "cell_type": "code",
   "execution_count": 66,
   "id": "adee23a7",
   "metadata": {},
   "outputs": [
    {
     "name": "stdout",
     "output_type": "stream",
     "text": [
      "['Credit reporting, repair, or other']\n"
     ]
    }
   ],
   "source": [
    "complaint = \"\"\"HDCC Bank is charging heavyily on credit cards.\"\"\"\n",
    "print(model.predict(fitted_vectorizer.transform([complaint])))"
   ]
  },
  {
   "cell_type": "code",
   "execution_count": 68,
   "id": "c699486b",
   "metadata": {},
   "outputs": [
    {
     "name": "stdout",
     "output_type": "stream",
     "text": [
      "['Mortgage']\n"
     ]
    }
   ],
   "source": [
    "complaint = \"\"\"I have a huge two mortgages on my home and bank is asking me to take another one or rather forcing me to do so\"\"\"\n",
    "print(model.predict(fitted_vectorizer.transform([complaint])))"
   ]
  }
 ],
 "metadata": {
  "kernelspec": {
   "display_name": "Python 3 (ipykernel)",
   "language": "python",
   "name": "python3"
  },
  "language_info": {
   "codemirror_mode": {
    "name": "ipython",
    "version": 3
   },
   "file_extension": ".py",
   "mimetype": "text/x-python",
   "name": "python",
   "nbconvert_exporter": "python",
   "pygments_lexer": "ipython3",
   "version": "3.11.3"
  }
 },
 "nbformat": 4,
 "nbformat_minor": 5
}
